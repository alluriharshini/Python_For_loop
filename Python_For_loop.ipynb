{
 "cells": [
  {
   "cell_type": "markdown",
   "id": "ab18c5b9-9884-4f36-82be-0bf70e4f1474",
   "metadata": {},
   "source": [
    "1.Write a Python program to print the numbers from 1 to 10 using a `for` loop."
   ]
  },
  {
   "cell_type": "code",
   "execution_count": 17,
   "id": "387ca2e1-53d7-4565-8fd8-2c4e6e5dacf3",
   "metadata": {},
   "outputs": [
    {
     "name": "stdout",
     "output_type": "stream",
     "text": [
      "1\n",
      "2\n",
      "3\n",
      "4\n",
      "5\n",
      "6\n",
      "7\n",
      "8\n",
      "9\n",
      "10\n",
      "The list of numbers from 1 to 10 are [1, 2, 3, 4, 5, 6, 7, 8, 9, 10]\n"
     ]
    }
   ],
   "source": [
    "for num in range(1, 11):\n",
    "    print(num)\n",
    "print(\"The list of numbers from 1 to 10 are\",list(range(1, 11)))"
   ]
  },
  {
   "cell_type": "markdown",
   "id": "b89e9e44-7fa9-4fb6-9d76-bcfcbc3fc9df",
   "metadata": {},
   "source": [
    "2.Create a program that calculates the sum of all numbers in a list using a `for` loop."
   ]
  },
  {
   "cell_type": "code",
   "execution_count": 30,
   "id": "5e4d2106-2e6b-405a-8937-4e5f4a8e06e5",
   "metadata": {},
   "outputs": [
    {
     "name": "stdout",
     "output_type": "stream",
     "text": [
      "Sum of all elements in given list:  32\n"
     ]
    }
   ],
   "source": [
    "list1 = [1,2,6,14,9]\n",
    "sum1=0\n",
    "# Iterating each element in list and adding them in variable sum1\n",
    "for element in range(0, len(list1)):\n",
    "    sum1 = sum1 + list1[element] \n",
    "#printing total value\n",
    "print(\"Sum of all elements in given list: \", sum1)"
   ]
  },
  {
   "cell_type": "markdown",
   "id": "b3dd8efa-4480-4270-94bf-977d86e19d55",
   "metadata": {},
   "source": [
    "3. Write a program to print the characters of a string in reverse order using a `for` loop."
   ]
  },
  {
   "cell_type": "code",
   "execution_count": 56,
   "id": "47a3e791-e82a-4961-9faa-71327514ef45",
   "metadata": {},
   "outputs": [
    {
     "name": "stdout",
     "output_type": "stream",
     "text": [
      " nohtyp gnicitcarp si inihsraH\n"
     ]
    }
   ],
   "source": [
    "string=\"Harshini is practicing python\"\n",
    "t=\" \"\n",
    "#using range function \n",
    "for s in range(len(string)-1,-1,-1) :\n",
    "    t+=string[s]    \n",
    "print(t)    \n",
    "    "
   ]
  },
  {
   "cell_type": "markdown",
   "id": "638de54b-ba0b-4884-bb3a-3c3f85d4199b",
   "metadata": {},
   "source": [
    "4.Create a program to print the multiplication table of a given number using a `for` loop."
   ]
  },
  {
   "cell_type": "code",
   "execution_count": 11,
   "id": "c06ec228-b47a-4c60-9a80-b799bb1cbbe2",
   "metadata": {},
   "outputs": [
    {
     "name": "stdin",
     "output_type": "stream",
     "text": [
      "Enter a number to get multiplication table: 19\n",
      "Enter the range till where multiplication table is needed: 10\n"
     ]
    },
    {
     "name": "stdout",
     "output_type": "stream",
     "text": [
      "19 multiplies 1 is 19\n",
      "19 multiplies 2 is 38\n",
      "19 multiplies 3 is 57\n",
      "19 multiplies 4 is 76\n",
      "19 multiplies 5 is 95\n",
      "19 multiplies 6 is 114\n",
      "19 multiplies 7 is 133\n",
      "19 multiplies 8 is 152\n",
      "19 multiplies 9 is 171\n",
      "19 multiplies 10 is 190\n"
     ]
    }
   ],
   "source": [
    "num=int(input(\"Enter a number to get multiplication table:\"))\n",
    "range1=int(input(\"Enter the range till where multiplication table is needed:\"))\n",
    "for i in range(1,range1+1):\n",
    "    print(f\"{num} multiplies {i} is\",num*i)"
   ]
  },
  {
   "cell_type": "markdown",
   "id": "553ae9bb-d298-4e7b-9da1-3337de716742",
   "metadata": {},
   "source": [
    "5.Write a program that counts the number of even and odd numbers in a list using a `for` loop."
   ]
  },
  {
   "cell_type": "code",
   "execution_count": 32,
   "id": "7444b757-e6d7-4eb5-b13a-9375aae03d83",
   "metadata": {},
   "outputs": [
    {
     "name": "stdin",
     "output_type": "stream",
     "text": [
      "Enter a list of odd and even no.: 11,22,1234,2,5,64\n"
     ]
    },
    {
     "name": "stdout",
     "output_type": "stream",
     "text": [
      "even numbers from the given list are: [22, 1234, 2, 64]\n",
      "odd numbers from the given list are: [11, 5]\n"
     ]
    }
   ],
   "source": [
    "list1=input(\"Enter a list of odd and even no.:\")\n",
    "list2=list(map(int,list1.split(',')))\n",
    "even=[]\n",
    "odd=[]\n",
    "for i in list2:\n",
    "    if i%2==0 :\n",
    "        even.append(i)\n",
    "    else:\n",
    "        odd.append(i)\n",
    "print(\"even numbers from the given list are:\", even)\n",
    "print(\"odd numbers from the given list are:\", odd)\n"
   ]
  },
  {
   "cell_type": "markdown",
   "id": "c7fc2f24-bade-4a1a-8674-57ad46618acb",
   "metadata": {},
   "source": [
    "7. Develop a program that prints the squares of numbers from 1 to 5 using a `for` loop."
   ]
  },
  {
   "cell_type": "code",
   "execution_count": 40,
   "id": "3754c1b2-1093-407c-8c12-ac9c76b51214",
   "metadata": {},
   "outputs": [
    {
     "name": "stdout",
     "output_type": "stream",
     "text": [
      "Squares of numbers from 1 to 5: [1, 4, 9, 16, 25]\n"
     ]
    }
   ],
   "source": [
    "squares=[]\n",
    "for num in range(1,6):\n",
    "    result=num**2\n",
    "    squares.append(result)\n",
    "print(\"Squares of numbers from 1 to 5:\",squares)    "
   ]
  },
  {
   "cell_type": "markdown",
   "id": "e616a82a-92ea-4e5d-b588-03450f049143",
   "metadata": {},
   "source": [
    "8. Create a program to find the length of a string without using the `len()` function."
   ]
  },
  {
   "cell_type": "code",
   "execution_count": 45,
   "id": "2e5651ff-ced9-443b-97d5-4eb66fa165bb",
   "metadata": {},
   "outputs": [
    {
     "name": "stdin",
     "output_type": "stream",
     "text": [
      "Enter a string: harshini reddy\n"
     ]
    },
    {
     "name": "stdout",
     "output_type": "stream",
     "text": [
      "The length of the string is:  14\n"
     ]
    }
   ],
   "source": [
    "p=input(\"Enter a string:\")\n",
    "count=0\n",
    "for ch in p:\n",
    "    count +=1\n",
    "print(\"The length of the string is: \",count)  "
   ]
  },
  {
   "cell_type": "markdown",
   "id": "bd15b014-8987-435c-bf70-b4a22181d5b9",
   "metadata": {},
   "source": [
    "9. Write a program that calculates the average of a list of numbers using a `for` loop."
   ]
  },
  {
   "cell_type": "code",
   "execution_count": 56,
   "id": "c10f4f8d-6948-43a8-9b51-fceef26197f2",
   "metadata": {},
   "outputs": [
    {
     "name": "stdin",
     "output_type": "stream",
     "text": [
      "Enter a list of numbers to get average: 22,33,1,45\n"
     ]
    },
    {
     "name": "stdout",
     "output_type": "stream",
     "text": [
      "Average of the given list: 25.25\n"
     ]
    }
   ],
   "source": [
    "num=input(\"Enter a list of numbers to get average:\")\n",
    "avgnum=list(map(int,num.split(',')))\n",
    "for i in avgnum:\n",
    "    result=sum(avgnum)/len(avgnum)\n",
    "    #average of a list is sum of the list divided by the length\n",
    "print(\"Average of the given list:\",result)    \n",
    "    "
   ]
  },
  {
   "cell_type": "markdown",
   "id": "0cc94a94-125e-4328-a7c7-d2e89279f10f",
   "metadata": {},
   "source": [
    "10. Develop a program that prints the first `n` Fibonacci numbers using a `for` loop."
   ]
  },
  {
   "cell_type": "code",
   "execution_count": 46,
   "id": "7e880159-37fc-4715-bb4d-4371f64a99a0",
   "metadata": {},
   "outputs": [
    {
     "name": "stdin",
     "output_type": "stream",
     "text": [
      "How many terms?  10\n"
     ]
    },
    {
     "name": "stdout",
     "output_type": "stream",
     "text": [
      "Fibonacci sequence: [0, 1, 1, 2, 3, 5, 8, 13, 21, 34]\n"
     ]
    }
   ],
   "source": [
    "nterms = int(input(\"How many terms? \"))\n",
    "# first two numbers are 0 and 1\n",
    "n1, n2 = 0, 1\n",
    "count = 0\n",
    "list1=[]\n",
    "for i in range(nterms):\n",
    "    if nterms <= 0:\n",
    "        print(\"Please enter a positive integer\")\n",
    "# if there is input one, return n1\n",
    "    elif nterms == 1:\n",
    "        print(\"Fibonacci sequence:\",n1)\n",
    "# generating fibonacci sequence with below logic\n",
    "    else:\n",
    "        while count < nterms:\n",
    "            list1.append(n1)\n",
    "            nth = n1 + n2\n",
    "            # update values\n",
    "            n1 = n2\n",
    "            n2 = nth\n",
    "            count += 1\n",
    "print(\"Fibonacci sequence:\",list1)   \n",
    " "
   ]
  },
  {
   "cell_type": "markdown",
   "id": "d33fcbea-4d3f-450b-8ef0-3478d6ac1ff4",
   "metadata": {},
   "source": [
    "11. Write a program to check if a given list contains any duplicates using a `for` loop."
   ]
  },
  {
   "cell_type": "code",
   "execution_count": 54,
   "id": "ff3f56af-5a9a-4ac4-9bca-c815da423d31",
   "metadata": {},
   "outputs": [
    {
     "name": "stdout",
     "output_type": "stream",
     "text": [
      "The list is: [11, 13, 15, 17, 13, 15, 16, 11]\n",
      "The list after removing duplicates: [11, 13, 15, 17, 16]\n"
     ]
    }
   ],
   "source": [
    "sam_list = [11, 13, 15, 17, 13, 15, 16, 11] \n",
    "\n",
    "print (\"The list is: \" + str(sam_list)) \n",
    "\n",
    "# to remove duplicates from list \n",
    "\n",
    "result = [] \n",
    "\n",
    "[result.append(x) for x in sam_list if x not in result] \n",
    "\n",
    "print (\"The list after removing duplicates: \" + str(result))\n",
    "                "
   ]
  },
  {
   "cell_type": "markdown",
   "id": "4f97f327-c9ac-4769-b266-580fe370932d",
   "metadata": {},
   "source": [
    "12. Create a program that prints the prime numbers in a given range using a `for` loop."
   ]
  },
  {
   "cell_type": "code",
   "execution_count": 97,
   "id": "5302fcc8-a19f-4408-a613-1aa831f4da7f",
   "metadata": {},
   "outputs": [
    {
     "name": "stdin",
     "output_type": "stream",
     "text": [
      "Enter the start of the range:  4\n",
      "Enter the end of the range:  5\n"
     ]
    },
    {
     "name": "stdout",
     "output_type": "stream",
     "text": [
      "Prime numbers between 4 and 5 are:\n",
      "5\n"
     ]
    }
   ],
   "source": [
    "start = int(input(\"Enter the start of the range: \"))\n",
    "end = int(input(\"Enter the end of the range: \"))\n",
    "\n",
    "print(f\"Prime numbers between {start} and {end} are:\")\n",
    "\n",
    "# Iterate through the range and check for prime numbers\n",
    "for num in range(start, end + 1):\n",
    "    if num > 1:  # Prime numbers are greater than 1\n",
    "        is_prime = True\n",
    "        for i in range(2, int(num ** 0.5) + 1):\n",
    "            if num % i == 0:\n",
    "                is_prime = False\n",
    "                break\n",
    "        if is_prime:\n",
    "            print(num)"
   ]
  },
  {
   "cell_type": "markdown",
   "id": "3db1638e-c84a-426e-a4b1-c5ef155f6698",
   "metadata": {},
   "source": [
    "13. Develop a program that counts the number of vowels in a string using a `for` loop."
   ]
  },
  {
   "cell_type": "code",
   "execution_count": 52,
   "id": "a3996af1-d679-41a6-b5f9-a48823fcfc03",
   "metadata": {},
   "outputs": [
    {
     "name": "stdin",
     "output_type": "stream",
     "text": [
      " harshini REddy\n"
     ]
    },
    {
     "name": "stdout",
     "output_type": "stream",
     "text": [
      "Number of vowels in the iven string are:  4\n"
     ]
    }
   ],
   "source": [
    "x=input()\n",
    "q={'a','e','i','o','u','A','E','I','U','O'}\n",
    "count=0\n",
    "for char in x:\n",
    "    if char in q:\n",
    "        count += 1\n",
    "print(\"Number of vowels in the iven string are: \",count)        "
   ]
  },
  {
   "cell_type": "markdown",
   "id": "06cd5803-f339-4ca9-b5f3-66df14524d59",
   "metadata": {},
   "source": [
    "14. Write a program to find the maximum element in a 2D list using a nested `for` loop."
   ]
  },
  {
   "cell_type": "code",
   "execution_count": 61,
   "id": "4213566c-7a74-41cd-9bf7-ba7509c435bc",
   "metadata": {},
   "outputs": [
    {
     "name": "stdout",
     "output_type": "stream",
     "text": [
      "the maximum element in a 2D list using a nested for loop is : 712\n"
     ]
    }
   ],
   "source": [
    "X = [[1,2,3],[712,8,4],[56,34,87]]\n",
    "l=[]\n",
    "for i in range(len(X)):\n",
    "    #checking highest number from sub lists and appending to list l\n",
    "    l.append(max(X[i]))\n",
    "    for j in range(len(l)):\n",
    "        #checking the max number from list l to get the highest of all the lists in the list X\n",
    "        max(l)\n",
    "print(\"the maximum element in a 2D list using a nested for loop is :\",max(l))"
   ]
  },
  {
   "cell_type": "markdown",
   "id": "9598b4ec-2835-45d0-96a7-5b6142e25be5",
   "metadata": {},
   "source": [
    "15. Create a program that removes all occurrences of a specific element from a list using a `for` loop."
   ]
  },
  {
   "cell_type": "code",
   "execution_count": 58,
   "id": "1ae38bd0-3d85-4cdb-bd60-adf367124491",
   "metadata": {},
   "outputs": [
    {
     "name": "stdout",
     "output_type": "stream",
     "text": [
      "[1, 3, 4, 5]\n"
     ]
    }
   ],
   "source": [
    "my_list = [1, 2, 3, 2, 4, 2, 5]\n",
    "# Element to remove\n",
    "eleto_remove = 2\n",
    "new_list = []\n",
    "for item in my_list:\n",
    "    if item != eleto_remove:\n",
    "        new_list.append(item)\n",
    "print(new_list)"
   ]
  },
  {
   "cell_type": "markdown",
   "id": "6482c53a-8fac-42be-b5e4-3f746b630a9e",
   "metadata": {},
   "source": [
    "16. Develop a program that generates a multiplication table for numbers from 1 to 5 using a nested `for` loop."
   ]
  },
  {
   "cell_type": "code",
   "execution_count": 4,
   "id": "9cd08584-323e-4b6a-bd6a-12415c435928",
   "metadata": {},
   "outputs": [
    {
     "name": "stdin",
     "output_type": "stream",
     "text": [
      "Enter the range till where multiplication table is needed: 4\n"
     ]
    },
    {
     "name": "stdout",
     "output_type": "stream",
     "text": [
      "1 multiplies 1 is 1\n",
      "1 multiplies 2 is 2\n",
      "1 multiplies 3 is 3\n",
      "1 multiplies 4 is 4\n",
      "2 multiplies 1 is 2\n",
      "2 multiplies 2 is 4\n",
      "2 multiplies 3 is 6\n",
      "2 multiplies 4 is 8\n",
      "3 multiplies 1 is 3\n",
      "3 multiplies 2 is 6\n",
      "3 multiplies 3 is 9\n",
      "3 multiplies 4 is 12\n",
      "4 multiplies 1 is 4\n",
      "4 multiplies 2 is 8\n",
      "4 multiplies 3 is 12\n",
      "4 multiplies 4 is 16\n",
      "5 multiplies 1 is 5\n",
      "5 multiplies 2 is 10\n",
      "5 multiplies 3 is 15\n",
      "5 multiplies 4 is 20\n"
     ]
    }
   ],
   "source": [
    "num=[1,2,3,4,5]\n",
    "range1=int(input(\"Enter the range till where multiplication table is needed:\"))\n",
    "for j in num:\n",
    "    for i in range(1,range1+1):\n",
    "        print(f\"{j} multiplies {i} is\",j*i)"
   ]
  },
  {
   "cell_type": "markdown",
   "id": "0c4d6f28-3fa2-4ae3-b8be-1ee9c061f3b8",
   "metadata": {},
   "source": [
    "17. Write a program that converts a list of Fahrenheit temperatures to Celsius using a `for` loop."
   ]
  },
  {
   "cell_type": "code",
   "execution_count": 10,
   "id": "7ae95c29-deaa-4066-ac77-29652e0e8254",
   "metadata": {},
   "outputs": [
    {
     "name": "stdout",
     "output_type": "stream",
     "text": [
      "Fahrenheit Temperatures: [91, 50, 40, 110, 210]\n",
      "Celsius Temperatures: [32.77777777777778, 10.0, 4.444444444444445, 43.333333333333336, 98.88888888888889]\n"
     ]
    }
   ],
   "source": [
    "# Create a list of Fahrenheit temperatures\n",
    "F_temp = [91,50,40,110,210]\n",
    "# Create an empty list to store the Celsius temperatures\n",
    "C_temp = []\n",
    "# Iterate through the Fahrenheit temperatures using a for loop\n",
    "for fahrenheit in F_temp:\n",
    "    # Convert Fahrenheit to Celsius using the formula: C = (F - 32) * 5/9\n",
    "    celsius = (fahrenheit - 32) * 5/9  \n",
    "    # Append the Celsius temperature to the new list\n",
    "    C_temp.append(celsius)\n",
    "# Print the list of Celsius temperatures\n",
    "print(\"Fahrenheit Temperatures:\", F_temp)\n",
    "print(\"Celsius Temperatures:\", C_temp)"
   ]
  },
  {
   "cell_type": "markdown",
   "id": "d39ebc8a-566e-4f6d-8f17-94313523d42e",
   "metadata": {},
   "source": [
    "18. Create a program to print the common elements from two lists using a `for` loop."
   ]
  },
  {
   "cell_type": "code",
   "execution_count": 14,
   "id": "6b2c62b3-65d8-436f-81b6-03729dc30752",
   "metadata": {},
   "outputs": [
    {
     "name": "stdout",
     "output_type": "stream",
     "text": [
      "list1 : [11, 22, 24, 53, 44, 66]\n",
      "list2 : [22, 44, 33, 55, 66, 11]\n",
      "The common elements from the above two lists : [11, 22, 44, 66]\n"
     ]
    }
   ],
   "source": [
    "list1=[11,22,24,53,44,66]\n",
    "list2=[22,44,33,55,66,11]\n",
    "list3=[]\n",
    "for i in list1:\n",
    "    for j in list2:\n",
    "        if i==j:\n",
    "            list3.append(i)\n",
    "print(\"list1 :\",list1) \n",
    "print(\"list2 :\",list2)             \n",
    "print(\"The common elements from the above two lists :\",list3)            \n",
    "            "
   ]
  },
  {
   "cell_type": "markdown",
   "id": "7c3e54ae-17b1-4889-a619-fcaabd6c077b",
   "metadata": {},
   "source": [
    "19. Develop a program that prints the pattern of right-angled triangles using a `for` loop. Use ‘*’ to draw the\n",
    "pattern"
   ]
  },
  {
   "cell_type": "code",
   "execution_count": 20,
   "id": "b439cd2b-4248-41f0-bbd6-993e4e0437d0",
   "metadata": {},
   "outputs": [
    {
     "name": "stdin",
     "output_type": "stream",
     "text": [
      "Enter the range of the triangle: 4\n"
     ]
    },
    {
     "name": "stdout",
     "output_type": "stream",
     "text": [
      "*\n",
      "**\n",
      "***\n",
      "****\n"
     ]
    }
   ],
   "source": [
    "num='*'\n",
    "range1=int(input(\"Enter the range of the triangle:\"))\n",
    "for i in range(1,range1+1):\n",
    "    for j in num:\n",
    "        print(j*i)"
   ]
  },
  {
   "cell_type": "markdown",
   "id": "29942324-7c41-4b8d-af2c-d4ee3ae4a65a",
   "metadata": {},
   "source": [
    "20. Write a program to find the greatest common divisor (GCD) of two numbers using a `for` loop."
   ]
  },
  {
   "cell_type": "code",
   "execution_count": 26,
   "id": "c3a2825b-4c6f-4e2a-ab5e-9d12470748cb",
   "metadata": {},
   "outputs": [
    {
     "name": "stdin",
     "output_type": "stream",
     "text": [
      "Enter the first number:  22\n",
      "Enter the second number:  77\n"
     ]
    },
    {
     "name": "stdout",
     "output_type": "stream",
     "text": [
      "The GCD of 22 and 77 is 11\n"
     ]
    }
   ],
   "source": [
    "# Input two numbers\n",
    "num1 = int(input(\"Enter the first number: \"))\n",
    "num2 = int(input(\"Enter the second number: \"))\n",
    "#the minimum of the two numbers\n",
    "min_num = min(num1, num2)\n",
    "# variable to store the GCD\n",
    "gcd = 1\n",
    "# Inside the for loop, we check if both num1 and num2 are divisible by the i and replace gcd\n",
    "for i in range(1, min_num + 1):\n",
    "    #i both num1 and num1 are divisible by  them it is a factor value in that the max is the GCD\n",
    "    if num1 % i == 0 and num2 % i == 0:\n",
    "        gcd = i\n",
    "# Print the GCD\n",
    "print(f\"The GCD of {num1} and {num2} is {gcd}\")"
   ]
  },
  {
   "cell_type": "markdown",
   "id": "d2e234d6-4f4f-497d-b663-bdc3053ab7b5",
   "metadata": {},
   "source": [
    "21. Create a program that calculates the sum of the digits of numbers in a list using a list comprehension."
   ]
  },
  {
   "cell_type": "code",
   "execution_count": 29,
   "id": "0203df53-21ba-434d-b271-57a3f8d4d4b5",
   "metadata": {},
   "outputs": [
    {
     "name": "stdout",
     "output_type": "stream",
     "text": [
      "Sums of digits for each number: [10, 13, 17, 6]\n",
      "The total sum of digits in the list is: 46\n"
     ]
    }
   ],
   "source": [
    "# List of numbers to sum the digits\n",
    "numbers = [145, 85, 908,6]\n",
    "\n",
    "# Using list comprehension to sum the digits of each number and create a list of sums\n",
    "#list comprehension [expression for item in iterable if condition == True]\n",
    "sums_of_digits = [sum(int(digit) for digit in str(number)) for number in numbers]\n",
    "\n",
    "# Calculate the total sum of digits\n",
    "total_sum = sum(sums_of_digits)\n",
    "\n",
    "# Print the list of sums and the total sum\n",
    "print(\"Sums of digits for each number:\", sums_of_digits)\n",
    "print(\"The total sum of digits in the list is:\", total_sum)"
   ]
  },
  {
   "cell_type": "markdown",
   "id": "e75cde60-ebc3-4848-a395-63cbac62c675",
   "metadata": {},
   "source": [
    "22. Write a program to find the prime factors of a given number using a `for` loop and list comprehension."
   ]
  },
  {
   "cell_type": "code",
   "execution_count": 11,
   "id": "0292cf78-67b3-4649-984f-c9266f124b5a",
   "metadata": {},
   "outputs": [
    {
     "name": "stdin",
     "output_type": "stream",
     "text": [
      "Enter a number:  6\n"
     ]
    },
    {
     "name": "stdout",
     "output_type": "stream",
     "text": [
      "The prime factors of the given number are: [2, 3]\n"
     ]
    }
   ],
   "source": [
    "num = int(input(\"Enter a number: \"))\n",
    "\n",
    "# Initialize an empty list to store prime factors\n",
    "prime_factors =  [i for i in range(2, num + 1) if num% i == 0 and all(i % j != 0 for j in range(2, int(i**0.5) + 1))]\n",
    "print(f\"The prime factors of the given number are: {prime_factors}\")"
   ]
  },
  {
   "cell_type": "markdown",
   "id": "8e6bd746-75d6-434b-a929-bd23e9479b26",
   "metadata": {},
   "source": [
    "23. Develop a program that extracts unique elements from a list and stores them in a new list using a list\n",
    "comprehension."
   ]
  },
  {
   "cell_type": "code",
   "execution_count": 34,
   "id": "d22cfddb-714b-4084-bd2f-b21d6641876e",
   "metadata": {},
   "outputs": [
    {
     "name": "stdout",
     "output_type": "stream",
     "text": [
      "[3, 4, 14, 6, 7]\n"
     ]
    }
   ],
   "source": [
    "list1=[2,3,4,14,2,6,7]\n",
    "# Initialize an empty list to store unique elements\n",
    "uele = [x for x in list1 if list1.count(x) == 1]\n",
    "print(uele)\n"
   ]
  },
  {
   "cell_type": "markdown",
   "id": "d910aedb-971e-4834-b911-e3f1ecf5c9d1",
   "metadata": {},
   "source": [
    "24. Create a program that generates a list of all palindromic numbers up to a specified limit using a list\n",
    "comprehension."
   ]
  },
  {
   "cell_type": "code",
   "execution_count": 61,
   "id": "b0086bd6-2077-4d97-bdc2-1f69f0c87afb",
   "metadata": {},
   "outputs": [
    {
     "name": "stdin",
     "output_type": "stream",
     "text": [
      "Enter a limit:  100\n"
     ]
    },
    {
     "name": "stdout",
     "output_type": "stream",
     "text": [
      "Palindromic numbers up to the specified limit: [1, 2, 3, 4, 5, 6, 7, 8, 9, 11, 22, 33, 44, 55, 66, 77, 88, 99]\n"
     ]
    }
   ],
   "source": [
    "limit = int(input(\"Enter a limit: \"))\n",
    "palindromic_numbers = [num for num in range(1, limit + 1) if str(num) == str(num)[::-1]]\n",
    "\n",
    "print(\"Palindromic numbers up to the specified limit:\", palindromic_numbers)\n"
   ]
  },
  {
   "cell_type": "markdown",
   "id": "6741430d-6e87-4a09-9567-6108a26b2624",
   "metadata": {},
   "source": [
    "25. Write a program to flatten a nested list using list comprehension."
   ]
  },
  {
   "cell_type": "code",
   "execution_count": 62,
   "id": "19972936-6102-4555-ac73-903448afa915",
   "metadata": {},
   "outputs": [
    {
     "name": "stdout",
     "output_type": "stream",
     "text": [
      "[13, 42, 31, 421, [5, 6], 3, 8]\n"
     ]
    }
   ],
   "source": [
    "nested_list = [[13, 42, 31], [421, [5, 6]], [3, 8]]\n",
    "flattened_list = [x for sublist in nested_list for x in (sublist if isinstance(sublist, list) else [sublist])]\n",
    "#isinstance(sublist, list) checks if sublist is a list and returns the list as is else returns elements\n",
    "\n",
    "print(flattened_list)"
   ]
  },
  {
   "cell_type": "markdown",
   "id": "769b017f-92ec-4127-9115-c426496be78d",
   "metadata": {},
   "source": [
    "26. Develop a program that computes the sum of even and odd numbers in a list separately using list\n",
    "comprehension."
   ]
  },
  {
   "cell_type": "code",
   "execution_count": 64,
   "id": "81746a70-c0d7-4cc0-a981-b640c507b988",
   "metadata": {},
   "outputs": [
    {
     "name": "stdout",
     "output_type": "stream",
     "text": [
      "The list is : [4, 3, 2, 1, 6, 11, 23, 33, 44]\n",
      "Even numbers from the list1: [4, 2, 6, 44] and sum of the even numbers is:  56\n",
      "Odd numbers from the list1: [3, 1, 11, 23, 33] and sum of odd numbers: 71\n"
     ]
    }
   ],
   "source": [
    "list1=[4,3,2,1,6,11,23,33,44]\n",
    "evennumbers = [i for i in list1 if i%2 == 0]\n",
    "oddnumbers = [i for i in list1 if i%2 != 0]\n",
    "print(\"The list is :\",list1)\n",
    "print(\"Even numbers from the list1:\", evennumbers,\"and sum of the even numbers is: \",sum(evennumbers))\n",
    "print(\"Odd numbers from the list1:\", oddnumbers,\"and sum of odd numbers:\", sum(oddnumbers))"
   ]
  },
  {
   "cell_type": "markdown",
   "id": "55c8618f-c291-41bd-b8c7-4c6a79f3f9de",
   "metadata": {},
   "source": [
    "27. Create a program that generates a list of squares of odd numbers between 1 and 10 using list\n",
    "comprehension."
   ]
  },
  {
   "cell_type": "code",
   "execution_count": 68,
   "id": "92a53031-592d-413f-afe7-2b8445e67f24",
   "metadata": {},
   "outputs": [
    {
     "name": "stdout",
     "output_type": "stream",
     "text": [
      "The list is : [4, 3, 2, 1, 6, 11, 23, 33, 44]\n",
      "The list of odd numbers square is : [9, 1, 121, 529, 1089]\n"
     ]
    }
   ],
   "source": [
    "list1=[4,3,2,1,6,11,23,33,44]\n",
    "oddnumbers = [i**2 for i in list1 if i%2 != 0]\n",
    "print(\"The list is :\",list1)\n",
    "print(\"The list of odd numbers square is :\",oddnumbers)"
   ]
  },
  {
   "cell_type": "markdown",
   "id": "27abf7fc-049c-4477-bd64-503987d28010",
   "metadata": {},
   "source": [
    "28. Write a program that combines two lists into a dictionary using list comprehension."
   ]
  },
  {
   "cell_type": "code",
   "execution_count": 91,
   "id": "b2cb5f7a-02bb-408c-9ef4-7ec7c59f82f4",
   "metadata": {},
   "outputs": [
    {
     "name": "stdout",
     "output_type": "stream",
     "text": [
      "{'course1': 'python', 'course2': 'datascience', 'course3': 'java', 'course4': 'C++'}\n"
     ]
    }
   ],
   "source": [
    "list1=[\"course1\",\"course2\",\"course3\",\"course4\"]\n",
    "list2=[\"python\",\"datascience\",\"java\",\"C++\"]\n",
    "#dictionary comprehension to iterate through the keys and values lists and create key-value pairs in the my_dict dictionary\n",
    "my_dict =={list1[i] : list2[i] for i in range(len(list1))}\n",
    "print(my_dict)"
   ]
  },
  {
   "cell_type": "markdown",
   "id": "d982f336-a4bc-4a83-b1d8-6bf5ba841986",
   "metadata": {},
   "source": [
    "29. Develop a program that extracts the vowels from a string and stores them in a list using list comprehension."
   ]
  },
  {
   "cell_type": "code",
   "execution_count": 65,
   "id": "ca3084c2-06e8-457a-aa66-f8eeb8b1c6b5",
   "metadata": {},
   "outputs": [
    {
     "name": "stdin",
     "output_type": "stream",
     "text": [
      "Enter the string: harshini REddy\n"
     ]
    },
    {
     "name": "stdout",
     "output_type": "stream",
     "text": [
      "Number of vowels in the given string are:  ['a', 'i', 'i', 'E']\n"
     ]
    }
   ],
   "source": [
    "x=input(\"Enter the string:\")\n",
    "q={'a','e','i','o','u','A','E','I','U','O'}\n",
    "vowel_list = [char for char in x if char in q]\n",
    "print(\"Number of vowels in the given string are: \",vowel_list)   "
   ]
  },
  {
   "cell_type": "markdown",
   "id": "d3ae1d9b-79a8-436c-8ef8-a41dc72b1d67",
   "metadata": {},
   "source": [
    "30. Create a program that removes all non-numeric characters from a list of strings using list comprehension."
   ]
  },
  {
   "cell_type": "code",
   "execution_count": 66,
   "id": "99abf23c-50ac-4ef7-8b38-0163ace6600c",
   "metadata": {},
   "outputs": [
    {
     "name": "stdout",
     "output_type": "stream",
     "text": [
      "['1123', '456', '0789', '007']\n"
     ]
    }
   ],
   "source": [
    "string_list = [\"harshini1123\", \"python456\", \"dheeraj0789\", \"harsha007\"]\n",
    "numeric_strings = [''.join(char for char in s if char.isdigit()) for s in string_list]\n",
    "print(numeric_strings)\n"
   ]
  },
  {
   "cell_type": "markdown",
   "id": "d98ced11-97c8-46e9-b20c-30dd345cbd79",
   "metadata": {},
   "source": [
    "31. Write a program to generate a list of prime numbers using the Sieve of Eratosthenes algorithm and list\n",
    "comprehension."
   ]
  },
  {
   "cell_type": "code",
   "execution_count": 15,
   "id": "2242ae35-8550-4562-a5e6-26f25c5bcb17",
   "metadata": {},
   "outputs": [
    {
     "name": "stdin",
     "output_type": "stream",
     "text": [
      "Enter the limit: 100\n"
     ]
    },
    {
     "name": "stdout",
     "output_type": "stream",
     "text": [
      "Prime numbers up to 100\n",
      ": [2, 3, 5, 7, 11, 13, 17, 19, 23, 29, 31, 37, 41, 43, 47, 53, 59, 61, 67, 71, 73, 79, 83, 89, 97]\n"
     ]
    }
   ],
   "source": [
    "n = int(input(\"Enter the limit:\")) \n",
    "# Initialing a list of boolean values to represent primality of numbers from 0 to n\n",
    "isprime = [True] * (n + 1)\n",
    "isprime[0] = isprime[1] = False  # 0 and 1 are not prime\n",
    "\n",
    "# Using a list comprehension to update the isprime list\n",
    "isprime = [isprime[i] if i < 2 else isprime[i] and all(i % j != 0 for j in range(2, int(i**0.5) + 1)) for i in range(n + 1)]\n",
    "\n",
    "# Generating a list of prime numbers based on the updated isprime list\n",
    "prime_numbers = [i for i in range(n + 1) if isprime[i]]\n",
    "\n",
    "# Print the prime numbers\n",
    "print(\"Prime numbers up to\", n)\n",
    "print(\":\",prime_numbers)\n"
   ]
  },
  {
   "cell_type": "markdown",
   "id": "f656beef-51da-43ba-bb19-afef8ff8b109",
   "metadata": {},
   "source": [
    "32. Create a program that generates a list of all Pythagorean triplets up to a specified limit using list\n",
    "comprehension."
   ]
  },
  {
   "cell_type": "code",
   "execution_count": 11,
   "id": "705b37b0-fabe-47c1-b271-52541557f1f1",
   "metadata": {},
   "outputs": [
    {
     "name": "stdin",
     "output_type": "stream",
     "text": [
      "Enter the limit:  20\n"
     ]
    },
    {
     "name": "stdout",
     "output_type": "stream",
     "text": [
      "[(3, 4, 5), (5, 12, 13), (6, 8, 10), (8, 15, 17), (9, 12, 15), (12, 16, 20)]\n"
     ]
    }
   ],
   "source": [
    "n = int(input('Enter the limit: '))\n",
    "#if a,b,c satisfies c**2=a**2 + b**2  then they are pythagorean triplets\n",
    "#a should be in range 1 to limit+1, b's range starts from a and c's range starts from b\n",
    "print([(a, b, c) for a in range(1, n + 1) for b in range(a, n + 1)\n",
    "       for c in range(b, n + 1) if a**2 + b**2 == c**2])"
   ]
  },
  {
   "cell_type": "markdown",
   "id": "4fafbede-de5f-499c-993c-cf1c472d2617",
   "metadata": {},
   "source": [
    "33. Develop a program that generates a list of all possible combinations of two lists using list comprehension."
   ]
  },
  {
   "cell_type": "code",
   "execution_count": 14,
   "id": "83954419-ab89-436b-a560-5f0634210d07",
   "metadata": {},
   "outputs": [
    {
     "name": "stdout",
     "output_type": "stream",
     "text": [
      "[('b', 1), ('b', 4), ('b', 9), ('c', 1), ('c', 4), ('c', 9), ('d', 1), ('d', 4), ('d', 9)]\n"
     ]
    }
   ],
   "source": [
    "list_1 = [\"b\", \"c\", \"d\"]\n",
    "list_2 = [1, 4, 9]\n",
    " \n",
    "unique_combinations = [(list_1[i], list_2[j]) for i in range(len(list_1)) for j in range(len(list_2))]\n",
    " \n",
    "print(unique_combinations)"
   ]
  },
  {
   "cell_type": "markdown",
   "id": "8a089501-b5e9-4a59-8f83-8bd10f69cbd9",
   "metadata": {},
   "source": [
    "34. Write a program that calculates the mean, median, and mode of a list of numbers using list\n",
    "comprehension."
   ]
  },
  {
   "cell_type": "code",
   "execution_count": 24,
   "id": "7feadc1d-ea19-4990-ac43-70989ba6ae95",
   "metadata": {},
   "outputs": [
    {
     "name": "stdout",
     "output_type": "stream",
     "text": [
      "Mean of the list:  [4.916666666666667] \n",
      " Median of the list:  5 \n",
      " Mode of the list : 2\n"
     ]
    }
   ],
   "source": [
    "from collections import Counter\n",
    "list1=[1,2,2,2,3,4,5,6,7,8,9,10]\n",
    "uniq_values = []\n",
    "mode_values = []\n",
    "mean=[sum(list1)/len(list1)]\n",
    "median=list1[int(len(list1) // 2)]\n",
    "mode = max((list1.count(i), i) for i in set(list1))[1]\n",
    "#[1] is used to extract the value from the tuple, which is the mode.\n",
    "\n",
    "print(\"Mean of the list: \",mean,'\\n',\"Median of the list: \",median,'\\n',\"Mode of the list :\",mode)"
   ]
  },
  {
   "cell_type": "markdown",
   "id": "e931fce6-3266-424f-aff8-f4be58e022f9",
   "metadata": {},
   "source": [
    "35. Create a program that generates Pascal's triangle up to a specified number of rows using list\n",
    "comprehension."
   ]
  },
  {
   "cell_type": "code",
   "execution_count": 32,
   "id": "f3c00f9f-031d-463a-a2c6-96953cb44a98",
   "metadata": {},
   "outputs": [
    {
     "name": "stdin",
     "output_type": "stream",
     "text": [
      "Enter the limit: 4\n"
     ]
    },
    {
     "name": "stdout",
     "output_type": "stream",
     "text": [
      "     1      \n",
      "    1 1     \n",
      "   1 2 1    \n",
      "  1 3 3 1   \n"
     ]
    }
   ],
   "source": [
    "n =int(input(\"Enter the limit:\"))\n",
    "\n",
    "pascals_triangle = [[1] * i for i in range(1, n + 1)]\n",
    "\n",
    "for i in range(2, n):\n",
    "    for j in range(1, i):\n",
    "        pascals_triangle[i][j] = pascals_triangle[i - 1][j - 1] + pascals_triangle[i - 1][j]\n",
    "\n",
    "for row in pascals_triangle:\n",
    "    print(' '.join(map(str, row)).center(n * 3))"
   ]
  },
  {
   "cell_type": "markdown",
   "id": "52afbc92-b7ed-4b76-944c-e5b8fc578bc3",
   "metadata": {},
   "source": [
    "36. Develop a program that calculates the sum of the digits of a factorial of numbers from 1 to 5 using list\n",
    "comprehension."
   ]
  },
  {
   "cell_type": "code",
   "execution_count": 35,
   "id": "f8499e9f-5801-4c86-98a2-37c481329337",
   "metadata": {},
   "outputs": [
    {
     "name": "stdout",
     "output_type": "stream",
     "text": [
      "The factorial of 1 is 1 and the sum of its digits is 1\n",
      "The factorial of 2 is 2 and the sum of its digits is 2\n",
      "The factorial of 3 is 6 and the sum of its digits is 6\n",
      "The factorial of 4 is 24 and the sum of its digits is 6\n",
      "The factorial of 5 is 120 and the sum of its digits is 3\n"
     ]
    }
   ],
   "source": [
    "# Defining a factorial function\n",
    "def factorial(n):\n",
    "    if n == 0:\n",
    "        return 1\n",
    "    else:\n",
    "        return n * factorial(n - 1)\n",
    "\n",
    "# Calculating the digit sums using list comprehension\n",
    "digit_sum = [sum(int(digit) for digit in str(factorial(n))) for n in range(1, 6)]\n",
    "\n",
    "# Print the results\n",
    "for n, sum_of_digits in enumerate(digit_sum, start=1):\n",
    "    print(f\"The factorial of {n} is {factorial(n)} and the sum of its digits is {sum_of_digits}\")\n"
   ]
  },
  {
   "cell_type": "markdown",
   "id": "11923581-2654-459d-a893-e479461d5743",
   "metadata": {},
   "source": [
    "37. Write a program that finds the longest word in a sentence using list comprehension."
   ]
  },
  {
   "cell_type": "code",
   "execution_count": 40,
   "id": "4cdfbc34-e5f3-4894-90bf-edf0957109f5",
   "metadata": {},
   "outputs": [
    {
     "name": "stdout",
     "output_type": "stream",
     "text": [
      "The longest word in the sentence is: ourselves.\n"
     ]
    }
   ],
   "source": [
    "sentence = \"Inspiring stories have the power to lift our spirits, motivate us, and remind us of the potential for greatness within ourselves.\"\n",
    "# Spliting the sentence into words using whitespace as the delimiter\n",
    "words = sentence.split()\n",
    "# Finding the longest word using list comprehension\n",
    "longest_word = max(words, key=lambda word: len(word))\n",
    "print(\"The longest word in the sentence is:\", longest_word)\n"
   ]
  },
  {
   "cell_type": "markdown",
   "id": "0f5f9fbf-5a3f-4496-99c8-e4fc749933b0",
   "metadata": {},
   "source": [
    "38. Create a program that filters a list of strings to include only those with more than three vowels using list\n",
    "comprehension."
   ]
  },
  {
   "cell_type": "code",
   "execution_count": 49,
   "id": "04e2be5f-fc7e-4811-8236-bfded1722231",
   "metadata": {},
   "outputs": [
    {
     "name": "stdout",
     "output_type": "stream",
     "text": [
      "Words with more than three vowels: ['cheeries', 'grapefruit', 'Pomegranate', 'aeiouA']\n"
     ]
    }
   ],
   "source": [
    "# Function to count vowels in a string\n",
    "def count_vowels(word):\n",
    "    vowels = \"AEIOUaeiou\"\n",
    "    return sum(1 for letter in word if letter in vowels)\n",
    "\n",
    "word_list = [\"apple\", \"banana\", \"cheeries\", \"grapefruit\",\"Pomegranate\", \"kiwi\", \"lemon\",'aeiouA']\n",
    "\n",
    "# Use list comprehension to filter words with more than three vowels\n",
    "filtered_words = [word for word in word_list if count_vowels(word) > 3]\n",
    "\n",
    "# Print the filtered words\n",
    "print(\"Words with more than three vowels:\", filtered_words)"
   ]
  },
  {
   "cell_type": "markdown",
   "id": "822ae03f-6e76-47ed-87dc-b6a595e5ec8c",
   "metadata": {},
   "source": [
    "39. Develop a program that calculates the sum of the digits of numbers from 1 to 1000 using list\n",
    "comprehension."
   ]
  },
  {
   "cell_type": "code",
   "execution_count": 51,
   "id": "652572ac-42d0-4a06-b1ce-59bfb366edad",
   "metadata": {},
   "outputs": [
    {
     "name": "stdout",
     "output_type": "stream",
     "text": [
      "The sum of the digits of numbers from 1 to 1000 is: 13501\n"
     ]
    }
   ],
   "source": [
    "# Defining a function to calculate the sum of digits of a number\n",
    "def sum_of_digits(number):\n",
    "    return sum(int(digit) for digit in str(number))\n",
    "\n",
    "sums = [sum_of_digits(num) for num in range(1, 1001)]\n",
    "total_sum = sum(sums)\n",
    "print(\"The sum of the digits of numbers from 1 to 1000 is:\", total_sum)\n"
   ]
  },
  {
   "cell_type": "markdown",
   "id": "cf5d0aac-c275-47a0-aab6-6a13f1e7ef34",
   "metadata": {},
   "source": [
    "40. Write a program that generates a list of prime palindromic numbers using list comprehension."
   ]
  },
  {
   "cell_type": "code",
   "execution_count": 53,
   "id": "57f175b5-19ba-4653-a466-e0fd57f58131",
   "metadata": {},
   "outputs": [
    {
     "name": "stdout",
     "output_type": "stream",
     "text": [
      "Prime palindromic numbers: [2, 3, 5, 7, 11, 101, 131, 151, 181, 191, 313, 353, 373, 383, 727, 757, 787, 797, 919, 929]\n"
     ]
    }
   ],
   "source": [
    "# Function to check if a number is prime\n",
    "def is_prime(number):\n",
    "    if number < 2:\n",
    "        return False\n",
    "    for i in range(2, int(number**0.5) + 1):\n",
    "        if number % i == 0:\n",
    "            return False\n",
    "    return True\n",
    "\n",
    "# Function to check if a number is a palindrome\n",
    "def is_palindrome(number):\n",
    "    return str(number) == str(number)[::-1]\n",
    "\n",
    "# Generating prime palindromic numbers using list comprehension\n",
    "prime_palindromes = [num for num in range(2, 1000) if is_prime(num) and is_palindrome(num)]\n",
    "\n",
    "print(\"Prime palindromic numbers:\", prime_palindromes)\n"
   ]
  },
  {
   "cell_type": "code",
   "execution_count": null,
   "id": "e384adc1-8498-4015-b749-97cda3545718",
   "metadata": {},
   "outputs": [],
   "source": []
  }
 ],
 "metadata": {
  "kernelspec": {
   "display_name": "Python 3 (ipykernel)",
   "language": "python",
   "name": "python3"
  },
  "language_info": {
   "codemirror_mode": {
    "name": "ipython",
    "version": 3
   },
   "file_extension": ".py",
   "mimetype": "text/x-python",
   "name": "python",
   "nbconvert_exporter": "python",
   "pygments_lexer": "ipython3",
   "version": "3.10.8"
  }
 },
 "nbformat": 4,
 "nbformat_minor": 5
}
